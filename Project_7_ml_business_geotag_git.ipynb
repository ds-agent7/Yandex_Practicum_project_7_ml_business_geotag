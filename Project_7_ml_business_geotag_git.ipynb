{
 "cells": [
  {
   "cell_type": "markdown",
   "metadata": {},
   "source": [
    "## Project.7 Машинное обучение в бизнесе\n",
    "\n",
    "    (yandex_practicum by student@pavel_matushevskiy, Volgograd 2022)\n"
   ]
  },
  {
   "cell_type": "markdown",
   "metadata": {},
   "source": [
    "### Описание проекта\n",
    "\n",
    "Допустим, вы работаете в добывающей компании «ГлавРосГосНефть». Нужно решить, где бурить новую скважину.  \n",
    "\n",
    "Вам предоставлены пробы нефти в трёх регионах: в каждом 10 000 месторождений, где измерили качество нефти и объём её запасов. Постройте модель машинного обучения, которая поможет определить регион, где добыча принесёт наибольшую прибыль. Проанализируйте возможную прибыль и риски техникой *Bootstrap.*\n",
    "\n",
    "#### Шаги для выбора локации:\n",
    "\n",
    "- В избранном регионе ищут месторождения, для каждого определяют значения признаков;\n",
    "- Строят модель и оценивают объём запасов;\n",
    "- Выбирают месторождения с самым высокими оценками значений. Количество месторождений зависит от бюджета компании и стоимости разработки одной скважины;\n",
    "- Прибыль равна суммарной прибыли отобранных месторождений."
   ]
  },
  {
   "cell_type": "markdown",
   "metadata": {},
   "source": [
    "### Описание данных\n",
    "\n",
    "Данные геологоразведки трёх регионов находятся в файлах:  \n",
    "\n",
    "/datasets/geo_data_0.csv  \n",
    "\n",
    "/datasets/geo_data_1.csv  \n",
    "\n",
    "/datasets/geo_data_2.csv  \n",
    "\n",
    "id — уникальный идентификатор скважины;  \n",
    "\n",
    "f0, f1, f2 — три признака точек (неважно, что они означают, но сами признаки значимы);  \n",
    "\n",
    "product — объём запасов в скважине (тыс. баррелей)."
   ]
  },
  {
   "cell_type": "markdown",
   "metadata": {},
   "source": [
    "### Шаг 1-1. Импорт библиотек и настроек"
   ]
  },
  {
   "cell_type": "code",
   "execution_count": 1,
   "metadata": {
    "ExecuteTime": {
     "end_time": "2022-10-18T20:19:55.959306Z",
     "start_time": "2022-10-18T20:19:55.952132Z"
    }
   },
   "outputs": [
    {
     "data": {
      "text/html": [
       "<style>.container { width:100% !important; }</style>"
      ],
      "text/plain": [
       "<IPython.core.display.HTML object>"
      ]
     },
     "metadata": {},
     "output_type": "display_data"
    }
   ],
   "source": [
    "from IPython.display import display, HTML\n",
    "display(HTML(\"<style>.container { width:100% !important; }</style>\"))"
   ]
  },
  {
   "cell_type": "code",
   "execution_count": 2,
   "metadata": {
    "ExecuteTime": {
     "end_time": "2022-10-18T20:19:57.857336Z",
     "start_time": "2022-10-18T20:19:55.960898Z"
    }
   },
   "outputs": [],
   "source": [
    "import pandas as pd\n",
    "import numpy as np\n",
    "import matplotlib.pyplot as plt\n",
    "from numpy.random import RandomState\n",
    "from sklearn.preprocessing import Normalizer, RobustScaler, MinMaxScaler, StandardScaler, MaxAbsScaler\n",
    "from sklearn.model_selection import train_test_split\n",
    "from sklearn.utils import shuffle\n",
    "from sklearn import linear_model\n",
    "from sklearn.linear_model import LinearRegression\n",
    "from sklearn.metrics import r2_score\n",
    "from sklearn.metrics import mean_squared_error\n",
    "from sklearn.metrics import mean_absolute_error\n",
    "from scipy import stats as st\n",
    "\n",
    "RANDOM_STATE = 42"
   ]
  },
  {
   "cell_type": "markdown",
   "metadata": {},
   "source": [
    "### Шаг 1-2. Загрузка данных и общий обзор."
   ]
  },
  {
   "cell_type": "code",
   "execution_count": 3,
   "metadata": {
    "ExecuteTime": {
     "end_time": "2022-10-18T20:19:58.125208Z",
     "start_time": "2022-10-18T20:19:57.859194Z"
    }
   },
   "outputs": [],
   "source": [
    "# Создадим датафреймы:\n",
    "df1 = pd.read_csv('datasets/geo_data_0.csv')\n",
    "df2 = pd.read_csv('datasets/geo_data_1.csv')\n",
    "df3 = pd.read_csv('datasets/geo_data_2.csv')"
   ]
  },
  {
   "cell_type": "code",
   "execution_count": 4,
   "metadata": {
    "ExecuteTime": {
     "end_time": "2022-10-18T20:19:58.136658Z",
     "start_time": "2022-10-18T20:19:58.126255Z"
    }
   },
   "outputs": [
    {
     "name": "stdout",
     "output_type": "stream",
     "text": [
      "      id        f0        f1        f2     product\n",
      "0  txEyH  0.705745 -0.497823  1.221170  105.280062\n",
      "1  2acmU  1.334711 -0.340164  4.365080   73.037750\n",
      "2  409Wp  1.022732  0.151990  1.419926   85.265647\n",
      "3  iJLyR -0.032172  0.139033  2.978566  168.620776\n",
      "4  Xdl7t  1.988431  0.155413  4.751769  154.036647\n",
      "\n",
      "      id         f0         f1        f2     product\n",
      "0  kBEdx -15.001348  -8.276000 -0.005876    3.179103\n",
      "1  62mP7  14.272088  -3.475083  0.999183   26.953261\n",
      "2  vyE1P   6.263187  -5.948386  5.001160  134.766305\n",
      "3  KcrkZ -13.081196 -11.506057  4.999415  137.945408\n",
      "4  AHL4O  12.702195  -8.147433  5.004363  134.766305\n",
      "\n",
      "      id        f0        f1        f2     product\n",
      "0  fwXo0 -1.146987  0.963328 -0.828965   27.758673\n",
      "1  WJtFt  0.262778  0.269839 -2.530187   56.069697\n",
      "2  ovLUW  0.194587  0.289035 -5.586433   62.871910\n",
      "3  q6cA6  2.236060 -0.553760  0.930038  114.572842\n",
      "4  WPMUX -0.515993  1.716266  5.899011  149.600746\n",
      "\n"
     ]
    }
   ],
   "source": [
    "# Посмотрим на сами данные:\n",
    "for df in (df1, df2, df3):\n",
    "    print(df.head())\n",
    "    print()"
   ]
  },
  {
   "cell_type": "code",
   "execution_count": 5,
   "metadata": {
    "ExecuteTime": {
     "end_time": "2022-10-18T20:19:58.192013Z",
     "start_time": "2022-10-18T20:19:58.137979Z"
    }
   },
   "outputs": [
    {
     "name": "stdout",
     "output_type": "stream",
     "text": [
      "<class 'pandas.core.frame.DataFrame'>\n",
      "RangeIndex: 100000 entries, 0 to 99999\n",
      "Data columns (total 5 columns):\n",
      " #   Column   Non-Null Count   Dtype  \n",
      "---  ------   --------------   -----  \n",
      " 0   id       100000 non-null  object \n",
      " 1   f0       100000 non-null  float64\n",
      " 2   f1       100000 non-null  float64\n",
      " 3   f2       100000 non-null  float64\n",
      " 4   product  100000 non-null  float64\n",
      "dtypes: float64(4), object(1)\n",
      "memory usage: 3.8+ MB\n",
      "None\n",
      "\n",
      "<class 'pandas.core.frame.DataFrame'>\n",
      "RangeIndex: 100000 entries, 0 to 99999\n",
      "Data columns (total 5 columns):\n",
      " #   Column   Non-Null Count   Dtype  \n",
      "---  ------   --------------   -----  \n",
      " 0   id       100000 non-null  object \n",
      " 1   f0       100000 non-null  float64\n",
      " 2   f1       100000 non-null  float64\n",
      " 3   f2       100000 non-null  float64\n",
      " 4   product  100000 non-null  float64\n",
      "dtypes: float64(4), object(1)\n",
      "memory usage: 3.8+ MB\n",
      "None\n",
      "\n",
      "<class 'pandas.core.frame.DataFrame'>\n",
      "RangeIndex: 100000 entries, 0 to 99999\n",
      "Data columns (total 5 columns):\n",
      " #   Column   Non-Null Count   Dtype  \n",
      "---  ------   --------------   -----  \n",
      " 0   id       100000 non-null  object \n",
      " 1   f0       100000 non-null  float64\n",
      " 2   f1       100000 non-null  float64\n",
      " 3   f2       100000 non-null  float64\n",
      " 4   product  100000 non-null  float64\n",
      "dtypes: float64(4), object(1)\n",
      "memory usage: 3.8+ MB\n",
      "None\n",
      "\n"
     ]
    }
   ],
   "source": [
    "# Посмотрим информацию по нашим датафреймам:\n",
    "for df in (df1, df2, df3):\n",
    "    print(df.info())\n",
    "    print()"
   ]
  },
  {
   "cell_type": "code",
   "execution_count": 6,
   "metadata": {
    "ExecuteTime": {
     "end_time": "2022-10-18T20:19:58.303281Z",
     "start_time": "2022-10-18T20:19:58.193437Z"
    }
   },
   "outputs": [
    {
     "name": "stdout",
     "output_type": "stream",
     "text": [
      "количество дубликатов: 0\n",
      "количество дубликатов: 0\n",
      "количество дубликатов: 0\n"
     ]
    }
   ],
   "source": [
    "# На всякий случай проверим дубликаты:\n",
    "for df in (df1, df2, df3):\n",
    "    print(\"количество дубликатов:\", df.duplicated().sum())"
   ]
  },
  {
   "cell_type": "markdown",
   "metadata": {},
   "source": [
    "### Промежуточный вывод\n",
    "\n",
    " 1. Все датафреймы содержат одинаковый объём данных.\n",
    " 2. Пропущенных значений или несоответствия типов нигде нет, явных дубликатов - тоже нет.\n",
    " 3. Столбец id для предсказаний нам нужно будет исключить, но  не будем удалять, т.к. он может пригодиться нам а будущем для идентификации скважины.\n",
    " 4. Адекватность значений признаков f0,f1,f2 мы не можем оценить т.к. контекст их нам неизвестен.\n",
    "Более детально исследуем признаки. "
   ]
  },
  {
   "cell_type": "markdown",
   "metadata": {},
   "source": [
    "### Шаг 1-3. Подготовка данных"
   ]
  },
  {
   "cell_type": "markdown",
   "metadata": {},
   "source": [
    "Из данных нас интересуют признаки 'f0', 'f1', 'f2' в каждом из 3 датасетов.   \n",
    "\n",
    "Они числовые. Изучим детальней их. "
   ]
  },
  {
   "cell_type": "code",
   "execution_count": 7,
   "metadata": {
    "ExecuteTime": {
     "end_time": "2022-10-18T20:19:59.191976Z",
     "start_time": "2022-10-18T20:19:58.304702Z"
    }
   },
   "outputs": [
    {
     "data": {
      "image/png": "[encoded data removed]",
      "text/plain": [
       "<Figure size 432x288 with 1 Axes>"
      ]
     },
     "metadata": {
      "needs_background": "light"
     },
     "output_type": "display_data"
    },
    {
     "data": {
      "image/png": "[encoded data removed]",
      "text/plain": [
       "<Figure size 432x288 with 1 Axes>"
      ]
     },
     "metadata": {
      "needs_background": "light"
     },
     "output_type": "display_data"
    },
    {
     "data": {
      "image/png": "[encoded data removed]",
      "text/plain": [
       "<Figure size 432x288 with 1 Axes>"
      ]
     },
     "metadata": {
      "needs_background": "light"
     },
     "output_type": "display_data"
    }
   ],
   "source": [
    "# Построим боксплоты (так мы оценим наличие выбросов): выбросы есть.\n",
    "for df in [df1, df2, df3]:\n",
    "    df.boxplot(column=['f0', 'f1', 'f2'])\n",
    "    plt.show()"
   ]
  },
  {
   "cell_type": "markdown",
   "metadata": {},
   "source": [
    "### Промежуточный вывод\n",
    "\n",
    "1. Сами значения внутри фрейма различаются в амплитуде значений (нужно обработать этот факт)\n",
    "2. Выбросы есть, заменим их используя межквартильный размах по верхней и нижней границе 1.5* перцентиля (значения заменим)."
   ]
  },
  {
   "cell_type": "code",
   "execution_count": 8,
   "metadata": {
    "ExecuteTime": {
     "end_time": "2022-10-18T20:19:59.220078Z",
     "start_time": "2022-10-18T20:19:59.193309Z"
    }
   },
   "outputs": [],
   "source": [
    "# Удалим выбросы c заменой выбросов на макс и мин значения по границам перцентилей:\n",
    "for df in [df1, df2, df3]:\n",
    "    for x in ['f0', 'f1', 'f2']:\n",
    "        q75, q25 = np.percentile(df.loc[:, x], [75, 25])\n",
    "        intr_qr = q75 - q25\n",
    "\n",
    "        max = q75 + (1.5 * intr_qr)\n",
    "        min = q25 - (1.5 * intr_qr)\n",
    "\n",
    "        df.loc[df[x] < min, x] = min\n",
    "        # df.loc[df[x] < min,x] = np.nan #просто удаление выбросов\n",
    "        df.loc[df[x] > max, x] = max"
   ]
  },
  {
   "cell_type": "markdown",
   "metadata": {
    "ExecuteTime": {
     "end_time": "2022-05-21T19:46:38.804957Z",
     "start_time": "2022-05-21T19:46:38.799751Z"
    }
   },
   "source": [
    "<div class=\"alert alert-block alert-warning\">\n",
    "<b>Изменения:</b> Попробовал не обрабатывать выбросы - результаты существенно не изменились. \n",
    "</div>"
   ]
  },
  {
   "cell_type": "code",
   "execution_count": 9,
   "metadata": {
    "ExecuteTime": {
     "end_time": "2022-10-18T20:20:00.075714Z",
     "start_time": "2022-10-18T20:19:59.223456Z"
    }
   },
   "outputs": [
    {
     "data": {
      "image/png": "[encoded data removed]",
      "text/plain": [
       "<Figure size 432x288 with 1 Axes>"
      ]
     },
     "metadata": {
      "needs_background": "light"
     },
     "output_type": "display_data"
    },
    {
     "data": {
      "image/png": "[encoded data removed]",
      "text/plain": [
       "<Figure size 432x288 with 1 Axes>"
      ]
     },
     "metadata": {
      "needs_background": "light"
     },
     "output_type": "display_data"
    },
    {
     "data": {
      "image/png": "[encoded data removed]",
      "text/plain": [
       "<Figure size 432x288 with 1 Axes>"
      ]
     },
     "metadata": {
      "needs_background": "light"
     },
     "output_type": "display_data"
    }
   ],
   "source": [
    "# Проверим результат:\n",
    "for df in [df1, df2, df3]:\n",
    "    df.boxplot(['f0', 'f1', 'f2'])\n",
    "    plt.show()"
   ]
  },
  {
   "cell_type": "markdown",
   "metadata": {},
   "source": [
    "### Вывод\n",
    "\n",
    "- Мы ознакомились с нашими данными\n",
    "- Убедились в отсутствии пропусков, дубликатов\n",
    "- Избавились от выбросов\n",
    "- Определились с тем, что признаки нужно будет стандартизировать"
   ]
  },
  {
   "cell_type": "markdown",
   "metadata": {},
   "source": [
    "### 2. Обучение и проверка модели"
   ]
  },
  {
   "cell_type": "code",
   "execution_count": 10,
   "metadata": {
    "ExecuteTime": {
     "end_time": "2022-10-18T20:20:00.104422Z",
     "start_time": "2022-10-18T20:20:00.077009Z"
    }
   },
   "outputs": [],
   "source": [
    "# Разобьем выборки в пропорции 75%/25% (согласно тех. заданию)\n",
    "def split_df(df):\n",
    "    target = df['product']\n",
    "    features = df[['f0', 'f1', 'f2']]\n",
    "\n",
    "    return train_test_split(features,\n",
    "                            target,\n",
    "                            test_size=0.25,\n",
    "                            random_state=RANDOM_STATE)\n",
    "\n",
    "\n",
    "features_train_1, features_valid_1, target_train_1, target_valid_1 = split_df(\n",
    "    df1)\n",
    "features_train_2, features_valid_2, target_train_2, target_valid_2 = split_df(\n",
    "    df2)\n",
    "features_train_3, features_valid_3, target_train_3, target_valid_3 = split_df(\n",
    "    df3)"
   ]
  },
  {
   "cell_type": "code",
   "execution_count": 11,
   "metadata": {
    "ExecuteTime": {
     "end_time": "2022-10-18T20:20:00.127671Z",
     "start_time": "2022-10-18T20:20:00.105965Z"
    }
   },
   "outputs": [],
   "source": [
    "# Стандартизируем признаки для лучшей обучаемости модели:\n",
    "def scale_features(features_train, features_valid):\n",
    "    scaler = StandardScaler()  # best result\n",
    "    # scaler = RobustScaler () # MaxAbsScaler MinMaxScaler Normalizer RobustScaler\n",
    "\n",
    "    numeric = ['f0', 'f1', 'f2']\n",
    "    scaler.fit(features_train[numeric])\n",
    "    pd.set_option('mode.chained_assignment', None)\n",
    "    features_train[numeric] = scaler.transform(features_train[numeric])\n",
    "    features_valid[numeric] = scaler.transform(features_valid[numeric])\n",
    "\n",
    "    return features_train, features_valid\n",
    "\n",
    "\n",
    "features_train_1, features_valid_1 = scale_features(features_train_1,\n",
    "                                                    features_valid_1)\n",
    "features_train_2, features_valid_2 = scale_features(features_train_2,\n",
    "                                                    features_valid_2)\n",
    "features_train_3, features_valid_3 = scale_features(features_train_3,\n",
    "                                                    features_valid_3)"
   ]
  },
  {
   "cell_type": "code",
   "execution_count": 12,
   "metadata": {
    "ExecuteTime": {
     "end_time": "2022-10-18T20:20:00.363740Z",
     "start_time": "2022-10-18T20:20:00.128902Z"
    }
   },
   "outputs": [
    {
     "data": {
      "image/png": "[encoded data removed]",
      "text/plain": [
       "<Figure size 432x288 with 1 Axes>"
      ]
     },
     "metadata": {
      "needs_background": "light"
     },
     "output_type": "display_data"
    }
   ],
   "source": [
    "# Проверим что имеем на выходе:\n",
    "features_train_1.boxplot(['f0', 'f1', 'f2'])\n",
    "plt.title(\"features_train_1\")\n",
    "plt.show()"
   ]
  },
  {
   "cell_type": "markdown",
   "metadata": {},
   "source": [
    "Далее обучим модель и проверим ее на валидационной выборке.  \n",
    "\n",
    "По тех заданию обучение модели должно проходить на линейной регрессии"
   ]
  },
  {
   "cell_type": "code",
   "execution_count": 13,
   "metadata": {
    "ExecuteTime": {
     "end_time": "2022-10-18T20:20:00.369873Z",
     "start_time": "2022-10-18T20:20:00.364942Z"
    }
   },
   "outputs": [],
   "source": [
    "# напишем функцию для рассчета метрики rmse\n",
    "def rmse(target, predicted):\n",
    "    mse = mean_squared_error(target, predicted)\n",
    "    return mse**0.5\n",
    "\n",
    "\n",
    "# для интереса напишем функцию, котора будет выводить все результаты нашей модели (MSE, RMSE, R2)\n",
    "def full_scores(target, predicted):\n",
    "    mae = mean_absolute_error(target, predicted)\n",
    "    mse = mean_squared_error(target, predicted)\n",
    "    rmse_metric = rmse(target, predicted)\n",
    "    r2 = r2_score(target, predicted)\n",
    "    predicted_mean = predicted.mean()\n",
    "\n",
    "    print('|{: >9}|{: >9}|{: >9}|{: >9}|{: >15}|'.format(\n",
    "        'MAE', 'MSE', 'RMSE', 'R2', 'Predicted mean'))\n",
    "    print('|{: >9.6f}|{: >9.4f}|{: >9.7f}|{: >9.6f}|{: >15.6f}|'.format(\n",
    "        mae, mse, rmse_metric, r2, predicted_mean))\n",
    "\n",
    "    # по условиям задачи дальше нам интересно сохранять средние предсказанные значения и rmse\n",
    "    return rmse, predicted_mean\n",
    "\n",
    "\n",
    "def train_the_model(features_train, target_train, features_valid,\n",
    "                    target_valid):\n",
    "    #model = LinearRegression()\n",
    "    model = linear_model.Lasso(alpha=0.1)\n",
    "    model = linear_model.Ridge(alpha=.1)\n",
    "    model.fit(features_train, target_train)\n",
    "    predicted_valid = model.predict(features_valid)\n",
    "    predicted_mean, rmse = full_scores(target_valid, predicted_valid)\n",
    "\n",
    "    return predicted_mean, rmse, predicted_valid"
   ]
  },
  {
   "cell_type": "code",
   "execution_count": 14,
   "metadata": {
    "ExecuteTime": {
     "end_time": "2022-10-18T20:20:00.399101Z",
     "start_time": "2022-10-18T20:20:00.371379Z"
    }
   },
   "outputs": [
    {
     "name": "stdout",
     "output_type": "stream",
     "text": [
      "Model for region 1\n",
      "|      MAE|      MSE|     RMSE|       R2| Predicted mean|\n",
      "|31.027226|1424.4707|37.7421614| 0.273385|      92.402557|\n",
      "\n",
      "Model for region 2\n",
      "|      MAE|      MSE|     RMSE|       R2| Predicted mean|\n",
      "| 0.717022|   0.7926|0.8902872| 0.999625|      68.712911|\n",
      "\n",
      "Model for region 3\n",
      "|      MAE|      MSE|     RMSE|       R2| Predicted mean|\n",
      "|32.879556|1610.7939|40.1346973| 0.196794|      94.769665|\n"
     ]
    }
   ],
   "source": [
    "# Выведем информацию моделей по каждому датасету:\n",
    "print('Model for region 1')\n",
    "predicted_mean_1, rmse_1, predicted_valid_1 = train_the_model(\n",
    "    features_train_1, target_train_1, features_valid_1, target_valid_1)\n",
    "predicted_valid_df_1 = pd.Series(\n",
    "    data=predicted_valid_1, index=target_valid_1.index)\n",
    "print()\n",
    "print('Model for region 2')\n",
    "predicted_mean_2, rmse_2, predicted_valid_2 = train_the_model(\n",
    "    features_train_2, target_train_2, features_valid_2, target_valid_2)\n",
    "predicted_valid_df_2 = pd.Series(\n",
    "    data=predicted_valid_2, index=target_valid_2.index)\n",
    "print()\n",
    "print('Model for region 3')\n",
    "predicted_mean_3, rmse_3, predicted_valid_3 = train_the_model(\n",
    "    features_train_3, target_train_3, features_valid_3, target_valid_3)\n",
    "predicted_valid_df_3 = pd.Series(\n",
    "    data=predicted_valid_3, index=target_valid_3.index)"
   ]
  },
  {
   "cell_type": "markdown",
   "metadata": {},
   "source": [
    "### Промежуточный вывод\n",
    "\n",
    "    1. Что любопытно, RMSE модели для 1го и 3го региона очень похожи, как и предсказанные значения, однако сами значения имеют довольно приличное отклонение\n",
    "    2. В то же время, для второго региона мы имеем гораздо лучшую точность, но и меньшее предсказание средних запасов"
   ]
  },
  {
   "cell_type": "markdown",
   "metadata": {},
   "source": [
    "### 3. Подготовка к расчёту прибыли"
   ]
  },
  {
   "cell_type": "code",
   "execution_count": 15,
   "metadata": {
    "ExecuteTime": {
     "end_time": "2022-10-18T20:20:00.403612Z",
     "start_time": "2022-10-18T20:20:00.400640Z"
    }
   },
   "outputs": [],
   "source": [
    "# Внесем основные параметры задачи\n",
    "count_points_explore = 500  # количество точек нужно исследовать для  разведки региона\n",
    "# количество точек для расчета прибыли (лучшие точки)\n",
    "count_points_profit = 200\n",
    "project_budget = 10 * (10 ** 9)  # бюджет на разработку (в рублях)\n",
    "barrel_profit = 450  # стоимость одного барреля (в рублях)\n",
    "product_profit = barrel_profit * 1000  # стоимость единицы продукта (в рублях)\n",
    "# предельная вероятность убытков на регион (в процентах) - по тех. заданию\n",
    "loss_limit = 2.5"
   ]
  },
  {
   "cell_type": "code",
   "execution_count": 16,
   "metadata": {
    "ExecuteTime": {
     "end_time": "2022-10-18T20:20:00.408169Z",
     "start_time": "2022-10-18T20:20:00.405142Z"
    }
   },
   "outputs": [
    {
     "name": "stdout",
     "output_type": "stream",
     "text": [
      "минимальный объём сырья для безубыточной разработки: 22222.22\n"
     ]
    }
   ],
   "source": [
    "# Рассчитаем достаточный объём сырья для безубыточной разработки (региона)\n",
    "product_per_region_min = project_budget / product_profit\n",
    "print(\"минимальный объём сырья для безубыточной разработки:\",\n",
    "      round(product_per_region_min, 2))"
   ]
  },
  {
   "cell_type": "code",
   "execution_count": 17,
   "metadata": {
    "ExecuteTime": {
     "end_time": "2022-10-18T20:20:00.412622Z",
     "start_time": "2022-10-18T20:20:00.409628Z"
    }
   },
   "outputs": [
    {
     "name": "stdout",
     "output_type": "stream",
     "text": [
      "минимальный объём сырья для безубыточной разработки 1 скважины: 111.11\n"
     ]
    }
   ],
   "source": [
    "# Рассчитаем то же самое для скважины\n",
    "product_per_point_min = product_per_region_min / count_points_profit\n",
    "print(\"минимальный объём сырья для безубыточной разработки 1 скважины:\",\n",
    "      round(product_per_point_min, 2))"
   ]
  },
  {
   "cell_type": "code",
   "execution_count": 18,
   "metadata": {
    "ExecuteTime": {
     "end_time": "2022-10-18T20:20:00.416744Z",
     "start_time": "2022-10-18T20:20:00.414130Z"
    }
   },
   "outputs": [],
   "source": [
    "# Напишем функцию рассчета прибыли\n",
    "def calculate_profit(target, probabilities):\n",
    "    probs_sorted = probabilities.sort_values(ascending=False)\n",
    "    selected = target[probs_sorted.index][:count_points_profit]\n",
    "    return selected.sum() * product_profit - project_budget"
   ]
  },
  {
   "cell_type": "code",
   "execution_count": 19,
   "metadata": {
    "ExecuteTime": {
     "end_time": "2022-10-18T20:20:00.481260Z",
     "start_time": "2022-10-18T20:20:00.418146Z"
    }
   },
   "outputs": [
    {
     "name": "stdout",
     "output_type": "stream",
     "text": [
      "Профит для 1 региона согласно модели, руб.: 3459271008.58\n",
      "Профит для 2 региона согласно модели, руб.: 2415086696.68\n",
      "Профит для 3 региона согласно модели, руб.: 2598571759.37\n"
     ]
    }
   ],
   "source": [
    "# Посчитаем профит по каждому региону\n",
    "print('Профит для 1 региона согласно модели, руб.:', round(\n",
    "    calculate_profit(target_valid_1, predicted_valid_df_1), 2))\n",
    "print('Профит для 2 региона согласно модели, руб.:', round(\n",
    "    calculate_profit(target_valid_2, predicted_valid_df_2), 2))\n",
    "print('Профит для 3 региона согласно модели, руб.:', round(\n",
    "    calculate_profit(target_valid_3, predicted_valid_df_3), 2))"
   ]
  },
  {
   "cell_type": "markdown",
   "metadata": {},
   "source": [
    "### Промежуточный вывод\n",
    "\n",
    "1. В нашем случае, для разработки в ноль необходимо чтобы каждая скважина из 200, по которым рассчитывается прибыль, добывала минимум 111 едниц продукта.\n",
    "2. При этом средние значения, которые мы предсказали для всех регионов меньше данного значения.\n",
    "3. Однако, несмотря на это в каждом регионе мы имеем положительную прибыль от разработки."
   ]
  },
  {
   "cell_type": "markdown",
   "metadata": {},
   "source": [
    "### 4. Расчёт прибыли и рисков "
   ]
  },
  {
   "cell_type": "markdown",
   "metadata": {
    "ExecuteTime": {
     "end_time": "2022-05-20T13:03:20.867110Z",
     "start_time": "2022-05-20T13:03:20.861814Z"
    }
   },
   "source": [
    "С помощью бутстрапа найдем распределение прибыли"
   ]
  },
  {
   "cell_type": "code",
   "execution_count": 20,
   "metadata": {
    "ExecuteTime": {
     "end_time": "2022-10-18T20:20:00.488950Z",
     "start_time": "2022-10-18T20:20:00.483181Z"
    }
   },
   "outputs": [],
   "source": [
    "#  функцию для наших вычислений бутстрепа\n",
    "def make_bootstrap(target, probabilities):\n",
    "    state = np.random.RandomState(42)\n",
    "\n",
    "    values = []\n",
    "    for i in range(1000):\n",
    "        target_subsample = target.sample(n=count_points_explore,\n",
    "                                         replace=True,\n",
    "                                         random_state=state)\n",
    "        probs_subsample = probabilities[target_subsample.index]\n",
    "\n",
    "        values.append(calculate_profit(target_subsample, probs_subsample))\n",
    "\n",
    "    values = pd.Series(values)\n",
    "\n",
    "    alpha = 0.95\n",
    "    df = values.count() - 1\n",
    "    confidence_interval_mean = st.t.interval(alpha,\n",
    "                                             df,\n",
    "                                             loc=values.mean(),\n",
    "                                             scale=values.sem())\n",
    "    lower = values.quantile(0.01)\n",
    "\n",
    "    mean = round(values.mean(), 2)\n",
    "    print(\"Средняя прибыль:\", mean, \"руб.\")\n",
    "    print(\"95% доверительный интервал (истинное среднее)\",\n",
    "          confidence_interval_mean)\n",
    "    confidence_interval_pred = (values.quantile(0.025), values.quantile(0.975))\n",
    "    print(\"95% доверительный интервал (прогноз)\", confidence_interval_pred)\n",
    "\n",
    "    loss_probability = values[values < 0].count() / values.count()\n",
    "    print('Вероятность убытка = {:.2%}'.format(loss_probability))\n",
    "\n",
    "    if loss_probability < loss_limit / 100:\n",
    "        print('Регион годится для разработки')\n",
    "\n",
    "    print()"
   ]
  },
  {
   "cell_type": "code",
   "execution_count": 21,
   "metadata": {
    "ExecuteTime": {
     "end_time": "2022-10-18T20:20:03.053513Z",
     "start_time": "2022-10-18T20:20:00.490700Z"
    }
   },
   "outputs": [
    {
     "name": "stdout",
     "output_type": "stream",
     "text": [
      "Model for region 1\n",
      "Средняя прибыль: 427825835.9 руб.\n",
      "95% доверительный интервал (истинное среднее) (411053455.7655068, 444598216.031941)\n",
      "95% доверительный интервал (прогноз) (-97249829.56859533, 947654212.5971403)\n",
      "Вероятность убытка = 5.50%\n",
      "\n",
      "Model for region 2\n",
      "Средняя прибыль: 511362776.2 руб.\n",
      "95% доверительный интервал (истинное среднее) (497955918.3541165, 524769634.04125386)\n",
      "95% доверительный интервал (прогноз) (98870649.90277724, 940720511.6508039)\n",
      "Вероятность убытка = 0.90%\n",
      "Регион годится для разработки\n",
      "\n",
      "Model for region 3\n",
      "Средняя прибыль: 402750614.47 руб.\n",
      "95% доверительный интервал (истинное среднее) (385676282.7460525, 419824946.1896508)\n",
      "95% доверительный интервал (прогноз) (-137162225.07193202, 929887528.0253205)\n",
      "Вероятность убытка = 7.40%\n",
      "\n"
     ]
    }
   ],
   "source": [
    "print('Model for region 1')\n",
    "make_bootstrap(target_valid_1, predicted_valid_df_1)\n",
    "print('Model for region 2')\n",
    "make_bootstrap(target_valid_2, predicted_valid_df_2)\n",
    "print('Model for region 3')\n",
    "make_bootstrap(target_valid_3, predicted_valid_df_3)"
   ]
  },
  {
   "cell_type": "markdown",
   "metadata": {},
   "source": [
    "### Промежуточный вывод\n",
    "\n",
    "В нашем случае нам даже не пришлось выбирать, т.к. регион, в котором с 95% вероятностью прибыть превысит 511 миллиона и самой низкой вероятностью убытков - второй. Именно этот регион и следует выбрать для разработки."
   ]
  },
  {
   "cell_type": "markdown",
   "metadata": {
    "pycharm": {
     "name": "#%% md\n"
    }
   },
   "source": [
    "### Общий вывод\n",
    "\n",
    "1. Мы изучили данные и избавились от выбросов, чтобы более точно обучить нашу модель\n",
    "2. Мы стандартизировали наши признаки, чтобы они оказывали сопоставимое влияние на обучение нашей модели\n",
    "3. В дальнейшем мы обучили нашу модель и получили предварительные оценки самой модели и наших трех регионов\n",
    "     - второй регион показал худший средний результат и отличную точность\n",
    "     - первый и второй оказались очень похожими друг на друга\n",
    "4. Мы рассчитали прибыльность каждого региона по предсказанным данным (каждый регион оказался прибыльным)\n",
    "5. Однако, поскольку для оценки региона этого было недостаточно, мы применили бутстрап, чтобы оценить регион с разных точек и получить средние значения генеральной совокупности\n",
    "    \n",
    "    Изучив эти данные, мы можем однозначно сказать, что разрабатывать имеет смысл именно второй регион, т.к. он одновременно обеспечивает самую высокую среднюю прибыль (выше 511 миллионов) при минимальном риске в 0.9 процент\n",
    "    "
   ]
  },
  {
   "cell_type": "code",
   "execution_count": null,
   "metadata": {},
   "outputs": [],
   "source": []
  }
 ],
 "metadata": {
  "kernelspec": {
   "display_name": "Python 3 (ipykernel)",
   "language": "python",
   "name": "python3"
  },
  "language_info": {
   "codemirror_mode": {
    "name": "ipython",
    "version": 3
   },
   "file_extension": ".py",
   "mimetype": "text/x-python",
   "name": "python",
   "nbconvert_exporter": "python",
   "pygments_lexer": "ipython3",
   "version": "3.8.13"
  },
  "toc": {
   "base_numbering": 1,
   "nav_menu": {},
   "number_sections": true,
   "sideBar": true,
   "skip_h1_title": true,
   "title_cell": "Table of Contents",
   "title_sidebar": "Contents",
   "toc_cell": false,
   "toc_position": {},
   "toc_section_display": true,
   "toc_window_display": false
  }
 },
 "nbformat": 4,
 "nbformat_minor": 2
}
